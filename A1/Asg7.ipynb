{
 "cells": [
  {
   "cell_type": "markdown",
   "id": "86d5940a-8b6f-4cc8-9594-ffe9212bea72",
   "metadata": {},
   "source": [
    "Gurparteek Singh \n",
    "Assignment 7 \n"
   ]
  },
  {
   "cell_type": "code",
   "execution_count": 158,
   "id": "f4017e10-65d1-4944-a538-d8dc7bf39f40",
   "metadata": {},
   "outputs": [],
   "source": [
    "import numpy as np"
   ]
  },
  {
   "cell_type": "markdown",
   "id": "5a6ba6e3-6ed0-47e5-82c8-8f6eb440b2a0",
   "metadata": {},
   "source": [
    "if we change the seed or remove it causes the reproductivity to no occur, therefore randomizing the array"
   ]
  },
  {
   "cell_type": "code",
   "execution_count": 271,
   "id": "f60aa4b0-e3d0-4542-9c4b-6534f528d26f",
   "metadata": {},
   "outputs": [
    {
     "name": "stdout",
     "output_type": "stream",
     "text": [
      "[2 9 3 4 2 0]\n",
      "[[0 7 6 4]\n",
      " [3 9 7 8]\n",
      " [1 5 0 9]]\n",
      "[[[8 5 8 5 5]\n",
      "  [4 2 4 8 8]\n",
      "  [9 2 9 8 8]\n",
      "  [2 1 5 6 8]]\n",
      "\n",
      " [[7 7 2 7 9]\n",
      "  [6 8 0 3 7]\n",
      "  [3 3 4 1 7]\n",
      "  [8 3 6 2 8]]\n",
      "\n",
      " [[1 0 3 9 9]\n",
      "  [8 8 9 4 2]\n",
      "  [2 0 4 2 5]\n",
      "  [7 0 7 3 8]]]\n"
     ]
    }
   ],
   "source": [
    "#1\n",
    "#np.random.seed()\n",
    "\n",
    "x1 = np.random.randint(10, size=6)  # One-dimensional array\n",
    "x2 = np.random.randint(10, size=(3, 4))  # Two-dimensional array\n",
    "x3 = np.random.randint(10, size=(3, 4, 5))  # Three-dimensional array\n",
    "\n",
    "print(x1)\n",
    "print(x2)\n",
    "print(x3)"
   ]
  },
  {
   "cell_type": "markdown",
   "id": "1f86bd27-9f46-455b-86d2-2e9358096d16",
   "metadata": {},
   "source": [
    "Using slice for first fifty"
   ]
  },
  {
   "cell_type": "code",
   "execution_count": 272,
   "id": "29050fd6-2dc9-489c-8f9e-647d2229fdd0",
   "metadata": {},
   "outputs": [
    {
     "data": {
      "text/plain": [
       "array([ 0,  1,  2,  3,  4,  5,  6,  7,  8,  9, 10, 11, 12, 13, 14, 15, 16,\n",
       "       17, 18, 19, 20, 21, 22, 23, 24, 25, 26, 27, 28, 29, 30, 31, 32, 33,\n",
       "       34, 35, 36, 37, 38, 39, 40, 41, 42, 43, 44, 45, 46, 47, 48, 49])"
      ]
     },
     "execution_count": 272,
     "metadata": {},
     "output_type": "execute_result"
    }
   ],
   "source": [
    "#2\n",
    "x = np.arange(100)\n",
    "x[:50]  # first fifty elements\n"
   ]
  },
  {
   "cell_type": "markdown",
   "id": "7a74bcd1-110c-491f-93be-2be2c2c18161",
   "metadata": {},
   "source": [
    "Using slice for 25 to 75"
   ]
  },
  {
   "cell_type": "code",
   "execution_count": 273,
   "id": "b12f6629-fdf6-4f1d-88e9-1ecb5cf888c3",
   "metadata": {},
   "outputs": [
    {
     "data": {
      "text/plain": [
       "array([25, 26, 27, 28, 29, 30, 31, 32, 33, 34, 35, 36, 37, 38, 39, 40, 41,\n",
       "       42, 43, 44, 45, 46, 47, 48, 49, 50, 51, 52, 53, 54, 55, 56, 57, 58,\n",
       "       59, 60, 61, 62, 63, 64, 65, 66, 67, 68, 69, 70, 71, 72, 73, 74, 75,\n",
       "       76])"
      ]
     },
     "execution_count": 273,
     "metadata": {},
     "output_type": "execute_result"
    }
   ],
   "source": [
    "#3\n",
    "x[25:77]  # middle sub-array"
   ]
  },
  {
   "cell_type": "markdown",
   "id": "a7854281-5822-4f8a-8d20-f78686b6f099",
   "metadata": {},
   "source": [
    "reversing all elemeents"
   ]
  },
  {
   "cell_type": "code",
   "execution_count": 274,
   "id": "90895621-81a6-4d1a-a879-b7eb93731184",
   "metadata": {},
   "outputs": [
    {
     "data": {
      "text/plain": [
       "array([99, 98, 97, 96, 95, 94, 93, 92, 91, 90, 89, 88, 87, 86, 85, 84, 83,\n",
       "       82, 81, 80, 79, 78, 77, 76, 75, 74, 73, 72, 71, 70, 69, 68, 67, 66,\n",
       "       65, 64, 63, 62, 61, 60, 59, 58, 57, 56, 55, 54, 53, 52, 51, 50, 49,\n",
       "       48, 47, 46, 45, 44, 43, 42, 41, 40, 39, 38, 37, 36, 35, 34, 33, 32,\n",
       "       31, 30, 29, 28, 27, 26, 25, 24, 23, 22, 21, 20, 19, 18, 17, 16, 15,\n",
       "       14, 13, 12, 11, 10,  9,  8,  7,  6,  5,  4,  3,  2,  1,  0])"
      ]
     },
     "execution_count": 274,
     "metadata": {},
     "output_type": "execute_result"
    }
   ],
   "source": [
    "#4\n",
    "x[::-1] "
   ]
  },
  {
   "cell_type": "markdown",
   "id": "2b989cde-b672-4df7-979f-54f4b3fd7832",
   "metadata": {},
   "source": [
    "Reversing multi dimensional array"
   ]
  },
  {
   "cell_type": "code",
   "execution_count": 275,
   "id": "8683014b-b865-4113-950d-10f88faf4088",
   "metadata": {},
   "outputs": [
    {
     "data": {
      "text/plain": [
       "array([[9, 0, 5, 1],\n",
       "       [8, 7, 9, 3],\n",
       "       [4, 6, 7, 0]])"
      ]
     },
     "execution_count": 275,
     "metadata": {},
     "output_type": "execute_result"
    }
   ],
   "source": [
    "#5\n",
    "x2\n",
    "x2[::-1, ::-1] "
   ]
  },
  {
   "cell_type": "markdown",
   "id": "13c5bdef-ffa9-45f5-9eb3-a5b0df60fc84",
   "metadata": {},
   "source": [
    "Creating sub copy of 1*1"
   ]
  },
  {
   "cell_type": "code",
   "execution_count": 276,
   "id": "aa39b22c-04c5-43b3-8fb6-711ba2c6ce66",
   "metadata": {},
   "outputs": [
    {
     "name": "stdout",
     "output_type": "stream",
     "text": [
      "[[0]]\n"
     ]
    }
   ],
   "source": [
    "#6\n",
    "x2_sub_copy = x2[:1, :1].copy()\n",
    "print(x2_sub_copy)"
   ]
  },
  {
   "cell_type": "markdown",
   "id": "d0477bb2-9053-4a1b-9b4b-2135e84988df",
   "metadata": {},
   "source": [
    "Creating sub copy of 3*3"
   ]
  },
  {
   "cell_type": "code",
   "execution_count": 277,
   "id": "ba45736e-337e-4997-a35e-7cb49becd152",
   "metadata": {},
   "outputs": [
    {
     "name": "stdout",
     "output_type": "stream",
     "text": [
      "[[0 7 6]\n",
      " [3 9 7]\n",
      " [1 5 0]]\n"
     ]
    }
   ],
   "source": [
    "#7\n",
    "x2_sub_copy = x2[:3, :3].copy()\n",
    "print(x2_sub_copy)"
   ]
  },
  {
   "cell_type": "markdown",
   "id": "66ac50cd-2773-428b-a01f-5da272d47f36",
   "metadata": {},
   "source": [
    "Reshaping an array of 100 elements"
   ]
  },
  {
   "cell_type": "code",
   "execution_count": 280,
   "id": "4c8afd7b-000e-4bae-8370-dcd36f36e20f",
   "metadata": {},
   "outputs": [
    {
     "data": {
      "text/plain": [
       "array([[ 0],\n",
       "       [ 1],\n",
       "       [ 2],\n",
       "       [ 3],\n",
       "       [ 4],\n",
       "       [ 5],\n",
       "       [ 6],\n",
       "       [ 7],\n",
       "       [ 8],\n",
       "       [ 9],\n",
       "       [10],\n",
       "       [11],\n",
       "       [12],\n",
       "       [13],\n",
       "       [14],\n",
       "       [15],\n",
       "       [16],\n",
       "       [17],\n",
       "       [18],\n",
       "       [19],\n",
       "       [20],\n",
       "       [21],\n",
       "       [22],\n",
       "       [23],\n",
       "       [24],\n",
       "       [25],\n",
       "       [26],\n",
       "       [27],\n",
       "       [28],\n",
       "       [29],\n",
       "       [30],\n",
       "       [31],\n",
       "       [32],\n",
       "       [33],\n",
       "       [34],\n",
       "       [35],\n",
       "       [36],\n",
       "       [37],\n",
       "       [38],\n",
       "       [39],\n",
       "       [40],\n",
       "       [41],\n",
       "       [42],\n",
       "       [43],\n",
       "       [44],\n",
       "       [45],\n",
       "       [46],\n",
       "       [47],\n",
       "       [48],\n",
       "       [49],\n",
       "       [50],\n",
       "       [51],\n",
       "       [52],\n",
       "       [53],\n",
       "       [54],\n",
       "       [55],\n",
       "       [56],\n",
       "       [57],\n",
       "       [58],\n",
       "       [59],\n",
       "       [60],\n",
       "       [61],\n",
       "       [62],\n",
       "       [63],\n",
       "       [64],\n",
       "       [65],\n",
       "       [66],\n",
       "       [67],\n",
       "       [68],\n",
       "       [69],\n",
       "       [70],\n",
       "       [71],\n",
       "       [72],\n",
       "       [73],\n",
       "       [74],\n",
       "       [75],\n",
       "       [76],\n",
       "       [77],\n",
       "       [78],\n",
       "       [79],\n",
       "       [80],\n",
       "       [81],\n",
       "       [82],\n",
       "       [83],\n",
       "       [84],\n",
       "       [85],\n",
       "       [86],\n",
       "       [87],\n",
       "       [88],\n",
       "       [89],\n",
       "       [90],\n",
       "       [91],\n",
       "       [92],\n",
       "       [93],\n",
       "       [94],\n",
       "       [95],\n",
       "       [96],\n",
       "       [97],\n",
       "       [98],\n",
       "       [99]])"
      ]
     },
     "execution_count": 280,
     "metadata": {},
     "output_type": "execute_result"
    }
   ],
   "source": [
    "#8\n",
    "x.reshape((100, 1))"
   ]
  },
  {
   "cell_type": "markdown",
   "id": "df75f781-9c02-484a-9200-6b7030afb832",
   "metadata": {},
   "source": [
    "reshaping in other direction"
   ]
  },
  {
   "cell_type": "code",
   "execution_count": 283,
   "id": "d5c8d713-12d5-4c7a-b333-8613b7feb53b",
   "metadata": {},
   "outputs": [
    {
     "data": {
      "text/plain": [
       "array([[ 0,  1,  2,  3,  4,  5,  6,  7,  8,  9, 10, 11, 12, 13, 14, 15,\n",
       "        16, 17, 18, 19, 20, 21, 22, 23, 24, 25, 26, 27, 28, 29, 30, 31,\n",
       "        32, 33, 34, 35, 36, 37, 38, 39, 40, 41, 42, 43, 44, 45, 46, 47,\n",
       "        48, 49, 50, 51, 52, 53, 54, 55, 56, 57, 58, 59, 60, 61, 62, 63,\n",
       "        64, 65, 66, 67, 68, 69, 70, 71, 72, 73, 74, 75, 76, 77, 78, 79,\n",
       "        80, 81, 82, 83, 84, 85, 86, 87, 88, 89, 90, 91, 92, 93, 94, 95,\n",
       "        96, 97, 98, 99]])"
      ]
     },
     "execution_count": 283,
     "metadata": {},
     "output_type": "execute_result"
    }
   ],
   "source": [
    "#9\n",
    "x.reshape((1, 100))"
   ]
  },
  {
   "cell_type": "markdown",
   "id": "0dbd0984-1686-467e-b2b3-3b34bd8f5348",
   "metadata": {},
   "source": [
    "Concatenation "
   ]
  },
  {
   "cell_type": "code",
   "execution_count": 286,
   "id": "dcb0996a-f53c-453b-8d51-49c6dd8b935f",
   "metadata": {},
   "outputs": [
    {
     "data": {
      "text/plain": [
       "array([ 0,  1,  2,  3,  4,  5,  6,  7,  8,  9, 10, 11, 12, 13, 14, 15, 16,\n",
       "       17, 18, 19, 20, 21, 22, 23, 24, 25, 26, 27, 28, 29, 30, 31, 32, 33,\n",
       "       34, 35, 36, 37, 38, 39, 40, 41, 42, 43, 44, 45, 46, 47, 48, 49, 50,\n",
       "       51, 52, 53, 54, 55, 56, 57, 58, 59, 60, 61, 62, 63, 64, 65, 66, 67,\n",
       "       68, 69, 70, 71, 72, 73, 74, 75, 76, 77, 78, 79, 80, 81, 82, 83, 84,\n",
       "       85, 86, 87, 88, 89, 90, 91, 92, 93, 94, 95, 96, 97, 98, 99,  0,  1,\n",
       "        2,  3,  4,  5,  6,  7,  8,  9, 10, 11, 12, 13, 14, 15, 16, 17, 18,\n",
       "       19, 20, 21, 22, 23, 24])"
      ]
     },
     "execution_count": 286,
     "metadata": {},
     "output_type": "execute_result"
    }
   ],
   "source": [
    "#10\n",
    "y = np.arange(25)\n",
    "np.concatenate([x, y])"
   ]
  },
  {
   "cell_type": "markdown",
   "id": "6cf9ac17-8187-403a-a12c-41391872b222",
   "metadata": {},
   "source": [
    "Concatenating different dimensional arrays will give an error"
   ]
  },
  {
   "cell_type": "code",
   "execution_count": 288,
   "id": "3454049c-8516-45c7-9de2-a67fe21238c9",
   "metadata": {},
   "outputs": [
    {
     "ename": "ValueError",
     "evalue": "all the input arrays must have same number of dimensions, but the array at index 0 has 1 dimension(s) and the array at index 1 has 2 dimension(s)",
     "output_type": "error",
     "traceback": [
      "\u001b[1;31m---------------------------------------------------------------------------\u001b[0m",
      "\u001b[1;31mValueError\u001b[0m                                Traceback (most recent call last)",
      "\u001b[1;32m~\\AppData\\Local\\Temp/ipykernel_33272/510347425.py\u001b[0m in \u001b[0;36m<module>\u001b[1;34m\u001b[0m\n\u001b[0;32m      1\u001b[0m \u001b[1;31m#11\u001b[0m\u001b[1;33m\u001b[0m\u001b[1;33m\u001b[0m\u001b[1;33m\u001b[0m\u001b[0m\n\u001b[1;32m----> 2\u001b[1;33m \u001b[0mprint\u001b[0m\u001b[1;33m(\u001b[0m\u001b[0mnp\u001b[0m\u001b[1;33m.\u001b[0m\u001b[0mconcatenate\u001b[0m\u001b[1;33m(\u001b[0m\u001b[1;33m[\u001b[0m\u001b[0mx1\u001b[0m\u001b[1;33m,\u001b[0m \u001b[0mx2\u001b[0m\u001b[1;33m,\u001b[0m \u001b[0mx3\u001b[0m\u001b[1;33m]\u001b[0m\u001b[1;33m)\u001b[0m\u001b[1;33m)\u001b[0m\u001b[1;33m\u001b[0m\u001b[1;33m\u001b[0m\u001b[0m\n\u001b[0m",
      "\u001b[1;32m<__array_function__ internals>\u001b[0m in \u001b[0;36mconcatenate\u001b[1;34m(*args, **kwargs)\u001b[0m\n",
      "\u001b[1;31mValueError\u001b[0m: all the input arrays must have same number of dimensions, but the array at index 0 has 1 dimension(s) and the array at index 1 has 2 dimension(s)"
     ]
    }
   ],
   "source": [
    "#11\n",
    "print(np.concatenate([x1, x2, x3]))"
   ]
  },
  {
   "cell_type": "markdown",
   "id": "4472a642-5a74-416a-9638-c4bd16680015",
   "metadata": {},
   "source": [
    "vertically stacking on top of each other"
   ]
  },
  {
   "cell_type": "code",
   "execution_count": 292,
   "id": "b9168ba9-001f-4573-81d3-5c4e5190fb74",
   "metadata": {},
   "outputs": [
    {
     "data": {
      "text/plain": [
       "array([[ 0,  1,  2,  3,  4,  5,  6,  7,  8,  9, 10, 11, 12, 13, 14, 15,\n",
       "        16, 17, 18, 19, 20, 21, 22, 23, 24, 25, 26, 27, 28, 29, 30, 31,\n",
       "        32, 33, 34, 35, 36, 37, 38, 39, 40, 41, 42, 43, 44, 45, 46, 47,\n",
       "        48, 49, 50, 51, 52, 53, 54, 55, 56, 57, 58, 59, 60, 61, 62, 63,\n",
       "        64, 65, 66, 67, 68, 69, 70, 71, 72, 73, 74, 75, 76, 77, 78, 79,\n",
       "        80, 81, 82, 83, 84, 85, 86, 87, 88, 89, 90, 91, 92, 93, 94, 95,\n",
       "        96, 97, 98, 99],\n",
       "       [ 0,  1,  2,  3,  4,  5,  6,  7,  8,  9, 10, 11, 12, 13, 14, 15,\n",
       "        16, 17, 18, 19, 20, 21, 22, 23, 24, 25, 26, 27, 28, 29, 30, 31,\n",
       "        32, 33, 34, 35, 36, 37, 38, 39, 40, 41, 42, 43, 44, 45, 46, 47,\n",
       "        48, 49, 50, 51, 52, 53, 54, 55, 56, 57, 58, 59, 60, 61, 62, 63,\n",
       "        64, 65, 66, 67, 68, 69, 70, 71, 72, 73, 74, 75, 76, 77, 78, 79,\n",
       "        80, 81, 82, 83, 84, 85, 86, 87, 88, 89, 90, 91, 92, 93, 94, 95,\n",
       "        96, 97, 98, 99]])"
      ]
     },
     "execution_count": 292,
     "metadata": {},
     "output_type": "execute_result"
    }
   ],
   "source": [
    "#12\n",
    "np.vstack([x, x])"
   ]
  },
  {
   "cell_type": "markdown",
   "id": "11b6075e-33ed-4b91-9f15-68e1a759d2da",
   "metadata": {},
   "source": [
    "Here we plot the height distribution chart and sum up and take a mean of the heights of the presidents"
   ]
  },
  {
   "cell_type": "code",
   "execution_count": 203,
   "id": "0bff15f3-0fe0-4e01-878e-5657cb2db9f8",
   "metadata": {},
   "outputs": [
    {
     "data": {
      "text/plain": [
       "179.73809523809524"
      ]
     },
     "execution_count": 203,
     "metadata": {},
     "output_type": "execute_result"
    },
    {
     "data": {
      "image/png": "[encoded data removed]",
      "text/plain": [
       "<Figure size 432x288 with 1 Axes>"
      ]
     },
     "metadata": {},
     "output_type": "display_data"
    }
   ],
   "source": [
    "#13\n",
    "import pandas as pd\n",
    "data = pd.read_csv('data/president_heights.csv')\n",
    "heights = np.array(data['height(cm)'])\n",
    "\n",
    "%matplotlib inline\n",
    "import matplotlib.pyplot as plt\n",
    "import seaborn; seaborn.set()  # set plot style\n",
    "plt.hist(heights)\n",
    "plt.title('Height Distribution of US Presidents')\n",
    "plt.xlabel('height (cm)')\n",
    "plt.ylabel('number');\n",
    "\n",
    "np.sum(heights) # sum of heights\n",
    "np.mean(heights) #mean of heigths"
   ]
  },
  {
   "cell_type": "markdown",
   "id": "a46f0fcc-b689-4b5c-9e86-524aa92a213a",
   "metadata": {},
   "source": [
    "Calcuating time of np.mean for diffrerent numbers of bigarray\n",
    "time increases with increase in seed number of np.random.rand"
   ]
  },
  {
   "cell_type": "code",
   "execution_count": 189,
   "id": "082a0709-30ee-4500-ba34-473313da93aa",
   "metadata": {},
   "outputs": [
    {
     "name": "stdout",
     "output_type": "stream",
     "text": [
      "6 µs ± 361 ns per loop (mean ± std. dev. of 7 runs, 100000 loops each)\n"
     ]
    }
   ],
   "source": [
    "#14\n",
    "big_array = np.random.rand(100)\n",
    "%timeit np.mean(big_array)"
   ]
  },
  {
   "cell_type": "markdown",
   "id": "5d13e553-a13c-4ed7-af17-0bfc10eeb77b",
   "metadata": {},
   "source": [
    "Calcuating time of sum vs np.sum for diffrerent numbers of bigarray as well as the max and min values, code for very large array will take a lot of time as shown in the code below"
   ]
  },
  {
   "cell_type": "code",
   "execution_count": 190,
   "id": "b3027faf-3983-40e8-9934-33ea66458aa0",
   "metadata": {},
   "outputs": [
    {
     "name": "stdout",
     "output_type": "stream",
     "text": [
      "624 µs ± 20.2 µs per loop (mean ± std. dev. of 7 runs, 1000 loops each)\n",
      "6.92 µs ± 252 ns per loop (mean ± std. dev. of 7 runs, 100000 loops each)\n"
     ]
    }
   ],
   "source": [
    "#15\n",
    "big_array = np.random.rand(10000)\n",
    "%timeit sum(big_array)\n",
    "%timeit np.sum(big_array)\n"
   ]
  },
  {
   "cell_type": "markdown",
   "id": "a3b716bc-eed8-4ab7-bd1e-c8178fd03f0f",
   "metadata": {},
   "source": [
    "Q2"
   ]
  },
  {
   "cell_type": "code",
   "execution_count": 2,
   "id": "dd776a78-ac01-4e4c-9b24-546b713c0f8d",
   "metadata": {},
   "outputs": [
    {
     "name": "stdin",
     "output_type": "stream",
     "text": [
      "enter number of random needed 12\n"
     ]
    },
    {
     "name": "stdout",
     "output_type": "stream",
     "text": [
      "[10  5  5  7  9  7  5  3  5  5  3  3]\n"
     ]
    },
    {
     "data": {
      "text/plain": [
       "array([4188.66666667,  523.58333333,  523.58333333, 1436.71266667,\n",
       "       3053.538     , 1436.71266667,  523.58333333,  113.094     ,\n",
       "        523.58333333,  523.58333333,  113.094     ,  113.094     ])"
      ]
     },
     "execution_count": 2,
     "metadata": {},
     "output_type": "execute_result"
    }
   ],
   "source": [
    "#\n",
    "import math \n",
    "import numpy as np\n",
    "\n",
    "UserInput = input(\"enter number of random needed\")\n",
    "userInputInt = int(UserInput)\n",
    "values = np.random.randint(0, 12,userInputInt)\n",
    "\n",
    "print(values)\n",
    "\n",
    "def computeRadius(values):\n",
    "    pi = 3.1415\n",
    "    values = values**3*pi*(4.0/3.0)\n",
    "    return values\n",
    "        \n",
    "computeRadius(values)\n",
    "\n"
   ]
  },
  {
   "cell_type": "markdown",
   "id": "c27fe4e8-8a85-49c6-877b-d89435d3756f",
   "metadata": {},
   "source": [
    "Q3"
   ]
  },
  {
   "cell_type": "code",
   "execution_count": 298,
   "id": "08971db5-cb1e-4b43-9a76-12e59c206d6d",
   "metadata": {},
   "outputs": [
    {
     "name": "stdout",
     "output_type": "stream",
     "text": [
      "[[24.95 40.    3.    0.75 60.  ]\n",
      " [26.96 35.    4.    1.   70.  ]\n",
      " [27.95 45.    5.    1.25 80.  ]]\n"
     ]
    },
    {
     "data": {
      "text/plain": [
       "'$1333.55'"
      ]
     },
     "execution_count": 298,
     "metadata": {},
     "output_type": "execute_result"
    }
   ],
   "source": [
    "base = np.array([[24.95,40,3,0.75,60]])\n",
    "\n",
    "def calculate(bookdetails):\n",
    "    totalPrice = 0\n",
    "    priceBook = bookdetails[0]\n",
    "    discount = (bookdetails[1]/100)*priceBook \n",
    "    priceAfter = priceBook-discount \n",
    "    totalBooksPrice = priceAfter*bookdetails[4]\n",
    "    deliveryFee = bookdetails[2]\n",
    "    deliveryRest = bookdetails[3]*(bookdetails[4]-1)\n",
    "    totalDelivery = deliveryFee + deliveryRest\n",
    "    totalPrice = totalBooksPrice+totalDelivery \n",
    "    return '$' + str(totalPrice)\n",
    "    \n",
    "\n",
    "\n",
    "def addBooks(price, discount, shipping_base, shipping_additional, number_of_copies):\n",
    "    arr = np.array([[price, discount, shipping_base, shipping_additional, number_of_copies]])\n",
    "    return calculate(arr[0])\n",
    "    \n",
    "\n",
    "calculate(base[0])\n",
    "arr = np.array([[26.96,35,4,1.00,70]])\n",
    "book2 = np.array([[27.95, 45, 5, 1.25, 80]])\n",
    "print( np.vstack([base,arr,book2]))\n",
    "\n",
    "addBooks(26.96,35,4,1.00,70)\n",
    "addBooks(27.95, 45, 5, 1.25, 80)\n"
   ]
  },
  {
   "cell_type": "markdown",
   "id": "8b82ffcc-0232-49e7-a983-92a1b50b387a",
   "metadata": {},
   "source": [
    "Q4\n",
    "    "
   ]
  },
  {
   "cell_type": "code",
   "execution_count": null,
   "id": "1775727c-e6d1-486f-9e7c-62305dd1b9b0",
   "metadata": {},
   "outputs": [],
   "source": [
    "def is_triangle(x):\n",
    "    x1 = np.full((3,3),[False,False,False])\n",
    "    x1[0] = x[:,0] > x[:,1]+ x[:, 2]\n",
    "    x1[1] = x[:,1] > x[:,0]+ x[:, 2]\n",
    "    x1[2] = x[:,2] > x[:,1]+ x[:, 0]  \n",
    "    return x1  \n",
    "\n",
    "    \n",
    "if __name__ == '__main__':\n",
    "    x =  np.array([[15, 3, 17], [4,1, 10], [3, 10, 2]])\n",
    "    print(is_triangle(x))\n",
    "    \n",
    "    "
   ]
  }
 ],
 "metadata": {
  "kernelspec": {
   "display_name": "Python 3 (ipykernel)",
   "language": "python",
   "name": "python3"
  },
  "language_info": {
   "codemirror_mode": {
    "name": "ipython",
    "version": 3
   },
   "file_extension": ".py",
   "mimetype": "text/x-python",
   "name": "python",
   "nbconvert_exporter": "python",
   "pygments_lexer": "ipython3",
   "version": "3.9.5"
  }
 },
 "nbformat": 4,
 "nbformat_minor": 5
}
