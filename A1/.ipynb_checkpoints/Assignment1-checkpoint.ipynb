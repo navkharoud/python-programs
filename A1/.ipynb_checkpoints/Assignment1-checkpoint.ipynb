{
 "cells": [
  {
   "cell_type": "markdown",
   "id": "d1c44483-292b-46c8-8a74-8236c2578217",
   "metadata": {},
   "source": [
    "Navkaran Singh 3119008"
   ]
  },
  {
   "cell_type": "markdown",
   "id": "ae6e3794-322a-489a-800f-bc635f542c0d",
   "metadata": {},
   "source": [
    "I am taking this course as an elective to learn about data science and add python to my skillset, i am hoping that by the end of this course i will be fluent in python. My main motive to learn python is to use automation and use bots to for certain tasks. Learning datasciecne along the way will also add to my skillset."
   ]
  },
  {
   "cell_type": "markdown",
   "id": "e274489e-26f9-4efc-8a85-75936f517bd8",
   "metadata": {},
   "source": [
    "Section 1.9"
   ]
  },
  {
   "cell_type": "markdown",
   "id": "2adc6d96-4ffb-49ea-9e8d-f7f548aeb61b",
   "metadata": {},
   "source": [
    "Exercise 1.1 \n",
    ". It is a good idea to read this book in front of a computer so you can try out the\n",
    "examples as you go.\n",
    "Whenever you are experimenting with a new feature, you should try to make mistakes. For example,\n",
    "in the “Hello, world!” program, what happens if you leave out one of the quotation marks? What if\n",
    "you leave out both? What if you spell print wrong?\n",
    "This kind of experiment helps you remember what you read; it also helps when you are programming,\n",
    "because you get to know what the error messages mean. It is better to make mistakes now and on\n",
    "purpose than later and accidentally.\n",
    "1. In a print statement, what happens if you leave out one of the parentheses, or both?\n",
    "2. If you are trying to print a string, what happens if you leave out one of the quotation marks, or both?\n",
    "3. You can use a minus sign to make a negative number like -2. What happens if you put a plus sign before a number? What about 2++2?\n",
    "4. In math notation, leading zeros are ok, as in 09. What happens if you try this in Python? What about 011?\n",
    "5. What happens if you have two values with no operator between them?"
   ]
  },
  {
   "cell_type": "markdown",
   "id": "a5ca243e-78a2-4bfb-812e-2ef27e7b78d3",
   "metadata": {},
   "source": [
    "1. Leaving out any of the paranthesis or both them, gives a syntax error and the program doesnt compile, unless youre running python 2 that allowed you to use print function without with paranthesis.\n",
    "2. leaving out one of the paranthesis would give an error that the string literal is unterminated. Leaving out both of them would make it a variable instead of a string if its a single word and would ask if its defined, but anyway it would not run. \n",
    "3. having a + sign infront of a positive number would result in no change.2++2 would result in 4, similar to 2+2 \n",
    "4. it would result in a syntax error as leading zeros are not permitted in python\n",
    "5. It would give a syntax error."
   ]
  },
  {
   "cell_type": "markdown",
   "id": "86da9e0c-5eed-4499-acc4-dfec9aaffe73",
   "metadata": {},
   "source": [
    "Exercise 1.2\n",
    ". Start the Python interpreter and use it as a calculator.\n",
    "1. How many seconds are there in 42 minutes 42 seconds?\n",
    "2. How many miles are there in 10 kilometers? Hint: there are 1.61 kilometers in a mile.\n",
    "3. If you run a 10 kilometer race in 42 minutes 42 seconds, what is your average pace (time per mile in minutes and seconds)? What is your average speed in miles per hour?\n",
    "\n",
    "predictions: \n",
    "1. a minute has 60 seconds therefore (42*60)+42 should be the expected reuslt.\n",
    "2. 1.61 km in a mile, therefore 0.62 miles in a km, therefore 0.62*10 = 6.2 miles in 10kms. \n",
    "3. total seconds = q1 \n",
    "   total miles = q2 \n",
    "   average speed in miles/seconds = q1/q2\n",
    "   average speed in miles/minutes = avg speed in miles/seconds / 60\n",
    "   time to run in minutes = 42+42/60 = 42.7 minutes/ 60 = 0.71 hrs\n",
    "   time in miles/hr = 6.2/0.71"
   ]
  },
  {
   "cell_type": "code",
   "execution_count": 9,
   "id": "123e33cb-e9f3-43b9-84cf-68947ebb49da",
   "metadata": {},
   "outputs": [
    {
     "name": "stdout",
     "output_type": "stream",
     "text": [
      "there are 2562 seconds in 42 minutes, 42 seconds\n",
      "there are 6.211180124223602 miles in 10 kms\n",
      "average speed in miles per hour = 8.727653570337614\n",
      "average pace in seconds = 412.482\n",
      "average pace in mintues = 6.874700000000001\n"
     ]
    }
   ],
   "source": [
    "##1 \n",
    "total_seconds = (42*60)+42\n",
    "print(\"there are \" + str(total_seconds) +\" seconds in 42 minutes, 42 seconds\")\n",
    "\n",
    "##2\n",
    "miles_in_kms = 1/1.61 \n",
    "total_miles = 10*miles_in_kms\n",
    "print(\"there are \"+ str(total_miles)+ \" miles in 10 kms\")\n",
    "\n",
    "##3 \n",
    "averageTimeSeconds = total_seconds/total_miles\n",
    "averageTimeMinutes = averageTimeSeconds/60\n",
    "\n",
    "totalHours = (total_seconds/60)/60\n",
    "MilesHours = total_miles/totalHours\n",
    "\n",
    "print(\"average speed in miles per hour = \" + str(MilesHours))\n",
    "print(\"average pace in seconds = \" + str(averageTimeSeconds))\n",
    "print(\"average pace in mintues = \" + str(averageTimeMinutes))"
   ]
  },
  {
   "cell_type": "markdown",
   "id": "3f7d2bdd-bb2d-4dab-8284-a4573c954c3e",
   "metadata": {},
   "source": [
    "Section 2.10"
   ]
  },
  {
   "cell_type": "markdown",
   "id": "4d76c2cd-1de3-487e-88c9-abdde3f5d081",
   "metadata": {},
   "source": [
    "Exercise 2.1\n",
    " Repeating my advice from the previous chapter, whenever you learn a new feature,\n",
    "you should try it out in interactive mode and make errors on purpose to see what goes wrong.\n",
    "• We’ve seen that n = 42 is legal. What about 42 = n?\n",
    "• How about x = y = 1?\n",
    "• In some languages every statement ends with a semi-colon, ;. What happens if you put a\n",
    "semi-colon at the end of a Python statement?\n",
    "• What if you put a period at the end of a statement?\n",
    "• In math notation you can multiply x and y like this: xy. What happens if you try that in\n",
    "Python?"
   ]
  },
  {
   "cell_type": "markdown",
   "id": "123030a1-dd9d-4f2b-8f2a-0e312771526a",
   "metadata": {},
   "source": [
    "1. It is still illegal as variable is on the left side\n",
    "2. This is legal as we can define multiple variable values in one line\n",
    "3. Python allows semicolons to be used even tho they are not required. (Simple design practise maybe?)\n",
    "4. periods can be used to in variable expression as it changes type from decimal to float, but if used with anyother statement it causes sytax error, as the period is used for dot notaion for objects. \n",
    "5. xy doesnt work as there is no variable with that name, xy is different from x and y."
   ]
  },
  {
   "cell_type": "markdown",
   "id": "bcee00ad-a3fc-4402-b289-1dca175e517d",
   "metadata": {},
   "source": [
    "Exercise 2.2\n",
    "Practice using the Python interpreter as a calculator:\n",
    "1. The volume of a sphere with radius r is 4/3πr^3. What is the volume of a sphere with radius 5?\n",
    "2. Suppose the cover price of a book is $24.95, but bookstores get a 40% discount. Shipping costs $3 for the first copy and 75 cents for each additional copy. What is the total wholesale cost for 60 copies?\n",
    "3. If I leave my house at 6:52 am and run 1 mile at an easy pace (8:15 per mile), then 3 miles at tempo (7:12 per mile) and 1 mile at easy pace again, what time do I get home for breakfast?\n",
    "\n",
    "predictions: \n",
    "1. simple maths formulae with pie = 3.14, 4/3 * 3.14 * 5^3  \n",
    "2. 40% of 24.95 = 9.98 ie discount per book \n",
    "   cost after discount= 14.96 * 60 books = 898.2\n",
    "   $3 for deelivery first book, for rest of the 59, it is 0.75 per book therefore 44.25+3.00 = 47.25 for the delivery therefore total = 945.45\n",
    "3. take time in hours\n",
    "   start at 6:52 /60\n",
    "   easy for 2 mile at 8:15 pace/ 60 *2\n",
    "   tempo pace for 3 miles at 7:12/60 *2\n",
    "   finished time> "
   ]
  },
  {
   "cell_type": "code",
   "execution_count": 17,
   "id": "573b3e0d-9276-47ae-892f-96be573b446d",
   "metadata": {},
   "outputs": [
    {
     "name": "stdout",
     "output_type": "stream",
     "text": [
      "523.5833333333333\n",
      "$945.4499999999999\n",
      "Time to get home 7 : 30 : 6\n"
     ]
    }
   ],
   "source": [
    "##1\n",
    "r = 5.0\n",
    "pi = 3.1415\n",
    "print((4.0/3.0)*pi*r**3)\n",
    "\n",
    "##2\n",
    "priceBook = 24.95 \n",
    "discount = 0.40*priceBook\n",
    "priceAfter = priceBook-discount \n",
    "totalBooksPrice = priceAfter*60 \n",
    "deliveryFee = 3.0\n",
    "deliveryRestOfBooks = 59*0.75\n",
    "totalDelivery = deliveryFee+deliveryRestOfBooks\n",
    "\n",
    "totalPrice = totalBooksPrice+totalDelivery\n",
    "print(\"$\"+str(totalPrice))\n",
    "\n",
    "##3\n",
    "start_time = 6 + 52 / 60.0\n",
    "easypace = (8 + 15 / 60.0 ) / 60.0\n",
    "tempopace = (7 + 12 / 60.0) / 60.0\n",
    "runtime = 2 * easypace + 3 * tempopace\n",
    "breakfast_hr = start_time + runtime\n",
    "breakfast_min = (breakfast_hr-int(breakfast_hr))*60\n",
    "breakfast_sec= (breakfast_min-int(breakfast_min))*60\n",
    "\n",
    "print ('Time to get home', int(breakfast_hr), \":\",int (breakfast_min),\":\", int (breakfast_sec) )\n"
   ]
  },
  {
   "cell_type": "code",
   "execution_count": null,
   "id": "7bd289c6-4e6c-4619-9f40-828b328f891a",
   "metadata": {},
   "outputs": [],
   "source": []
  }
 ],
 "metadata": {
  "kernelspec": {
   "display_name": "Python 3 (ipykernel)",
   "language": "python",
   "name": "python3"
  },
  "language_info": {
   "codemirror_mode": {
    "name": "ipython",
    "version": 3
   },
   "file_extension": ".py",
   "mimetype": "text/x-python",
   "name": "python",
   "nbconvert_exporter": "python",
   "pygments_lexer": "ipython3",
   "version": "3.9.5"
  }
 },
 "nbformat": 4,
 "nbformat_minor": 5
}
