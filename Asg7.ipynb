{
 "cells": [
  {
   "cell_type": "markdown",
   "id": "f25c44ac-c744-4c88-ac36-58f96535ab05",
   "metadata": {},
   "source": [
    "Gurparteek Singh \n",
    "PHYS-2112 \n",
    "Assignmnet 8"
   ]
  },
  {
   "cell_type": "markdown",
   "id": "8151199f-6519-426f-ab8e-62831167c7fa",
   "metadata": {},
   "source": [
    "A8-1-TP7.3 [40] (infinite_series_pi)\n",
    "\n",
    "Solve TP7.3 again by writing a function that takes k as a parameter (instead of iterating until the last term is 1e-15),\n",
    "uses NumPy to calculate the series, and return the estimate."
   ]
  },
  {
   "cell_type": "code",
   "execution_count": 1,
   "id": "3fa03f38-b789-4a19-aa8b-a81acee06f78",
   "metadata": {},
   "outputs": [],
   "source": [
    "import numpy as np\n",
    "import scipy.special\n",
    "import math\n",
    "\n",
    "def factorial(n):\n",
    "    \"\"\"Computes factorial of n recursively.\"\"\"\n",
    "    if n == 0:\n",
    "        return 1\n",
    "    else:\n",
    "        recurse = factorial(n-1)\n",
    "        result = n * recurse\n",
    "        return result\n",
    "\n",
    "\n",
    "def estimate_pi(k):\n",
    "    \"\"\" k is the number of iterations \"\"\"\n",
    "    x=np.random.rand(k)\n",
    "    i=0\n",
    "    factor = 2 * math.sqrt(2) / 9801 \n",
    "    \n",
    "    while i<k: \n",
    "        num = factorial(4*i) * (1103 + 26390*i)\n",
    "        den = factorial(i)**4 * 396**(4*i)\n",
    "        term = factor * num / den\n",
    "        x[i]=term\n",
    "        i +=1\n",
    "    return 1/x.sum()\n",
    "    \n",
    "    \n",
    "def test_estimate_pi():\n",
    "    assert estimate_pi(12) == math.pi\n",
    "    \n",
    "\n",
    "if __name__ == '__main__':\n",
    "     test_estimate_pi()\n",
    "      "
   ]
  },
  {
   "cell_type": "markdown",
   "id": "5bce2514-8c5a-4a11-8087-c5ba2060807b",
   "metadata": {},
   "source": [
    "A7-3 [50] (pi_monte_carlo)\n",
    "\n",
    "One way to estimate the value of pi is to use the Monte Carlo method. Read https://en.wikipedia.org/wiki/Monte_Carlo_method which explains the general concept and which has this use as its first example in the \"Overview\" section.\n",
    "\n",
    "Here is a pure Python solution:\n",
    "\n",
    "import random\n",
    "import sys\n",
    "\n",
    "def mc_pi():\n",
    "    inside_unit_circle = total_points = 0\n",
    "    while True:\n",
    "        total_points += 1\n",
    "        a, b = random.random(), random.random()\n",
    "        if a ** 2 + b ** 2 < 1:\n",
    "            inside_unit_circle += 1\n",
    "        yield 4 * inside_unit_circle / total_points\n",
    "\n",
    "\n",
    "def main(max_iterations=200):\n",
    "    for i, pi in enumerate(mc_pi()):\n",
    "        if i > max_iterations:\n",
    "            break\n",
    "    print(pi)\n",
    "\n",
    "\n",
    "if __name__ == '__main__':\n",
    "    main(int(sys.argv[1]))\n",
    "Implement a faster solution using NumPy. Use timeit to compare the speed of the two solutions."
   ]
  },
  {
   "cell_type": "code",
   "execution_count": 2,
   "id": "8dfa159f-d702-4e43-9bd7-25e987fd9635",
   "metadata": {},
   "outputs": [
    {
     "data": {
      "image/png": "[encoded data removed]",
      "text/plain": [
       "<Figure size 432x288 with 1 Axes>"
      ]
     },
     "metadata": {
      "needs_background": "light"
     },
     "output_type": "display_data"
    },
    {
     "data": {
      "image/png": "[encoded data removed]",
      "text/plain": [
       "<Figure size 432x288 with 1 Axes>"
      ]
     },
     "metadata": {
      "needs_background": "light"
     },
     "output_type": "display_data"
    },
    {
     "name": "stdout",
     "output_type": "stream",
     "text": [
      "3.04\n",
      "Part A\n"
     ]
    },
    {
     "ename": "NameError",
     "evalue": "name 'time_1' is not defined",
     "output_type": "error",
     "traceback": [
      "\u001b[1;31m---------------------------------------------------------------------------\u001b[0m",
      "\u001b[1;31mNameError\u001b[0m                                 Traceback (most recent call last)",
      "\u001b[1;32m~\\AppData\\Local\\Temp/ipykernel_26584/2601367575.py\u001b[0m in \u001b[0;36m<module>\u001b[1;34m\u001b[0m\n\u001b[0;32m     58\u001b[0m     \u001b[0mmc_pi_numpy\u001b[0m\u001b[1;33m(\u001b[0m\u001b[1;33m)\u001b[0m\u001b[1;33m\u001b[0m\u001b[1;33m\u001b[0m\u001b[0m\n\u001b[0;32m     59\u001b[0m     \u001b[0mprint\u001b[0m\u001b[1;33m(\u001b[0m\u001b[1;34m'Part A'\u001b[0m\u001b[1;33m)\u001b[0m\u001b[1;33m\u001b[0m\u001b[1;33m\u001b[0m\u001b[0m\n\u001b[1;32m---> 60\u001b[1;33m     \u001b[0mprint\u001b[0m\u001b[1;33m(\u001b[0m\u001b[1;34m'pi_monte_carlo took'\u001b[0m\u001b[1;33m,\u001b[0m \u001b[0mtime_1\u001b[0m\u001b[1;33m)\u001b[0m\u001b[1;33m\u001b[0m\u001b[1;33m\u001b[0m\u001b[0m\n\u001b[0m\u001b[0;32m     61\u001b[0m \u001b[1;33m\u001b[0m\u001b[0m\n\u001b[0;32m     62\u001b[0m     \u001b[0mprint\u001b[0m\u001b[1;33m(\u001b[0m\u001b[1;34m'Part B'\u001b[0m\u001b[1;33m)\u001b[0m\u001b[1;33m\u001b[0m\u001b[1;33m\u001b[0m\u001b[0m\n",
      "\u001b[1;31mNameError\u001b[0m: name 'time_1' is not defined"
     ]
    }
   ],
   "source": [
    "import matplotlib.pyplot as plt\n",
    "import numpy as np\n",
    "import seaborn as sns\n",
    "import timeit\n",
    "import random\n",
    "import sys\n",
    "\n",
    "def mc_pi_numpy():\n",
    "    #condition 1: Quadrat\n",
    "    figure, axes = plt.subplots()\n",
    "    draw_circle = plt.Circle((0, 0), 1, fill=False)\n",
    "    axes.set_aspect(1)\n",
    "    axes.add_artist(draw_circle)\n",
    "    plt.show()\n",
    "\n",
    "    #scatters the values\n",
    "    MAX_VALUES = 200\n",
    "    a, b = [np.random.random(MAX_VALUES) for _ in range(2)]\n",
    "\n",
    "    #plots the scarrted values\n",
    "    figure, axes = plt.subplots()\n",
    "    draw_circle = plt.Circle((0, 0), 1,fill=False)\n",
    "    axes.set_aspect(1)\n",
    "    axes.add_artist(draw_circle)\n",
    "    axes.add_artist(plt.scatter(x=a, y=b ,))\n",
    "    plt.show()\n",
    "\n",
    "    #times the numpy solution\n",
    "    start_time1 = timeit.default_timer()\n",
    "    #check for the values which are true // inside the quadrant \n",
    "    #and then sum them\n",
    "    fx = a ** 2 + b ** 2 < 1\n",
    "    print((fx.sum()/200)*4 )\n",
    "    time_1 = timeit.default_timer() - start_time1\n",
    "   \n",
    "    \n",
    "\n",
    "    \n",
    "def mc_pi():\n",
    "    inside_unit_circle = total_points = 0\n",
    "    while True:\n",
    "        total_points += 1\n",
    "        a, b = random.random(), random.random()\n",
    "        if a ** 2 + b ** 2 < 1:\n",
    "            inside_unit_circle += 1\n",
    "        yield 4 * inside_unit_circle / total_points\n",
    "\n",
    "def main(max_iterations=200):\n",
    "    for i, pi in enumerate(mc_pi()):\n",
    "        if i > max_iterations:\n",
    "            break\n",
    "    print(pi)\n",
    "\n",
    "\n",
    "if __name__ == '__main__':\n",
    "    #times the pure python solution\n",
    "    \n",
    "    mc_pi_numpy()\n",
    "    print('Part A')\n",
    "    print('pi_monte_carlo took', time_1)\n",
    "    \n",
    "    print('Part B')\n",
    "    start_time2 = timeit.default_timer()\n",
    "    main()\n",
    "    time_2 = timeit.default_timer() - start_time2\n",
    "    print('Python solution took', time_2)\n",
    "\n",
    "\n"
   ]
  },
  {
   "cell_type": "code",
   "execution_count": null,
   "id": "8fdfaee4-5371-4622-befc-cfb34838fa89",
   "metadata": {},
   "outputs": [],
   "source": []
  },
  {
   "cell_type": "code",
   "execution_count": null,
   "id": "fe8d7aa3-1175-4e11-94c1-06aec499bebd",
   "metadata": {},
   "outputs": [],
   "source": []
  }
 ],
 "metadata": {
  "kernelspec": {
   "display_name": "Python 3 (ipykernel)",
   "language": "python",
   "name": "python3"
  },
  "language_info": {
   "codemirror_mode": {
    "name": "ipython",
    "version": 3
   },
   "file_extension": ".py",
   "mimetype": "text/x-python",
   "name": "python",
   "nbconvert_exporter": "python",
   "pygments_lexer": "ipython3",
   "version": "3.9.5"
  }
 },
 "nbformat": 4,
 "nbformat_minor": 5
}
