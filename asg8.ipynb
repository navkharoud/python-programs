{
 "cells": [
  {
   "cell_type": "markdown",
   "id": "a8993a61-efc3-47c5-a2d1-69b93715c0a6",
   "metadata": {},
   "source": [
    "Gurparteek Sinh\n",
    "3119008 \n",
    "PHYS-2112 \n",
    "Assignment 8 "
   ]
  },
  {
   "cell_type": "code",
   "execution_count": 110,
   "id": "603e6d97-caf9-427e-b6d6-0b7e579e118a",
   "metadata": {},
   "outputs": [],
   "source": [
    "import numpy as np"
   ]
  },
  {
   "cell_type": "markdown",
   "id": "9308aac1-f5a8-4ab6-8f04-25ad323e56db",
   "metadata": {},
   "source": [
    "Q1. Use a NumPy array containing a single integer 2, stored as an unsigned 64-bit integer, to calculate 2 raised to the 63rd power minus 1. Then convert or print that value as a binary number which should have 63 '1' characters in it. This requires relatively little code, but you'll need to use NumPy's dtype, think carefully about the types of objects, and review or lookup ways to display a value as binary."
   ]
  },
  {
   "cell_type": "code",
   "execution_count": 111,
   "id": "e3c07c3a-9c79-40c5-a751-49e03e2a5742",
   "metadata": {},
   "outputs": [
    {
     "name": "stdout",
     "output_type": "stream",
     "text": [
      "[9223372036854775807]\n",
      "Binary: 0b111111111111111111111111111111111111111111111111111111111111111\n"
     ]
    }
   ],
   "source": [
    "def printBinary(): \n",
    "    a = np.array([2], dtype = 'uint64')\n",
    "    a = a**63 - 1 \n",
    "    print(a)\n",
    "    print(\"Binary:\", bin(a[0]))\n",
    "    \n",
    "printBinary()"
   ]
  },
  {
   "cell_type": "markdown",
   "id": "b6b1c943-e5b5-4a48-b4c7-afb80157b984",
   "metadata": {},
   "source": [
    "Q2.Create a 1-D NumPy array with the first 16 digits of pi (as integers in the range 0 to 9), by using math.pi. Hint: this is similar to Think Python exercise 9.9."
   ]
  },
  {
   "cell_type": "code",
   "execution_count": 112,
   "id": "829403d2-f3b8-4a0b-a5fb-b337a242c69a",
   "metadata": {},
   "outputs": [
    {
     "name": "stdout",
     "output_type": "stream",
     "text": [
      "[3, 1, 4, 1, 5, 9, 2, 6, 5, 3, 5, 8, 9, 7, 9, 3]\n"
     ]
    }
   ],
   "source": [
    "import math \n",
    "\n",
    "def digitsOfPi():\n",
    "    a = np.empty(16, dtype = 'int')\n",
    "    pi = str(math.pi).replace(\".\",\"\")\n",
    "    a = [int(_) for _ in pi]\n",
    "    print(a)\n",
    "\n",
    "digitsOfPi()"
   ]
  },
  {
   "cell_type": "markdown",
   "id": "3fd486b1-79a0-4a4b-a009-e9bbdba565ab",
   "metadata": {},
   "source": [
    "Q3.Calculate the sum of 1/2 + 1/4 + 1/8 + ... + 1/(2 ** 99) + 1/(2 ** 100) by using techniques presented in PDSH section 2.03. You may use a Pandas Series if you prefer. Remember that even NumPy 'uint64' cannot represent 2 ** 100 (try this to see that: np.array(2 ** 100, dtype='uint64'), but you can use dtype 'float64' instead."
   ]
  },
  {
   "cell_type": "code",
   "execution_count": 113,
   "id": "95620de9-ce53-4a02-a674-50ab0590c8fd",
   "metadata": {},
   "outputs": [
    {
     "name": "stdout",
     "output_type": "stream",
     "text": [
      "The sum of the series: 1.0\n"
     ]
    }
   ],
   "source": [
    "def sumOfSeries(): \n",
    "    a= np.array([],dtype= 'float64')\n",
    "    a= [(1/2**_) for _ in range(1,100)]\n",
    "    print(\"The sum of the series:\",np.sum(a))\n",
    " \n",
    "sumOfSeries()"
   ]
  },
  {
   "cell_type": "code",
   "execution_count": null,
   "id": "91685b7b-e9d3-466e-90cb-ab1f46ea490c",
   "metadata": {},
   "outputs": [],
   "source": []
  },
  {
   "cell_type": "code",
   "execution_count": null,
   "id": "cc24308f-04e5-40f8-af25-1e8a8f184628",
   "metadata": {},
   "outputs": [],
   "source": []
  }
 ],
 "metadata": {
  "kernelspec": {
   "display_name": "Python 3 (ipykernel)",
   "language": "python",
   "name": "python3"
  },
  "language_info": {
   "codemirror_mode": {
    "name": "ipython",
    "version": 3
   },
   "file_extension": ".py",
   "mimetype": "text/x-python",
   "name": "python",
   "nbconvert_exporter": "python",
   "pygments_lexer": "ipython3",
   "version": "3.9.5"
  }
 },
 "nbformat": 4,
 "nbformat_minor": 5
}
